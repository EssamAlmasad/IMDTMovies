{
 "cells": [
  {
   "cell_type": "markdown",
   "metadata": {},
   "source": [
    "\n",
    "\n",
    "# Project: Investigate IMDB Dataset \n",
    "\n",
    "## Table of Contents\n",
    "<ul>\n",
    "<li><a href=\"#intro\">Introduction</a></li>\n",
    "<li><a href=\"#wrangling\">Data Wrangling</a></li>\n",
    "<li><a href=\"#eda\">Exploratory Data Analysis</a></li>\n",
    "<li><a href=\"#conclusions\">Conclusions</a></li>\n",
    "</ul>"
   ]
  },
  {
   "cell_type": "markdown",
   "metadata": {},
   "source": [
    "<a id='intro'></a>\n",
    "## Introduction\n",
    "\n",
    "#### In this project we will investigate the IMDB dataset to find the relationships & to see if the movie industry have been improving throughout the years or was the old era of movies better."
   ]
  },
  {
   "cell_type": "code",
   "execution_count": 24,
   "metadata": {},
   "outputs": [],
   "source": [
    "# Use this cell to set up import statements for all of the packages that you\n",
    "#   plan to use.\n",
    "import pandas as pd\n",
    "import numpy as np\n",
    "import matplotlib.pyplot as plt\n",
    "\n",
    "\n",
    "# Remember to include a 'magic word' so that your visualizations are plotted\n",
    "#   inline with the notebook. See this page for more:\n",
    "#   http://ipython.readthedocs.io/en/stable/interactive/magics.html\n",
    "% matplotlib inline"
   ]
  },
  {
   "cell_type": "markdown",
   "metadata": {},
   "source": [
    "<a id='wrangling'></a>\n",
    "## Data Wrangling\n",
    "\n",
    "\n",
    "\n",
    "### General Properties"
   ]
  },
  {
   "cell_type": "code",
   "execution_count": 25,
   "metadata": {},
   "outputs": [
    {
     "data": {
      "text/html": [
       "<div>\n",
       "<style>\n",
       "    .dataframe thead tr:only-child th {\n",
       "        text-align: right;\n",
       "    }\n",
       "\n",
       "    .dataframe thead th {\n",
       "        text-align: left;\n",
       "    }\n",
       "\n",
       "    .dataframe tbody tr th {\n",
       "        vertical-align: top;\n",
       "    }\n",
       "</style>\n",
       "<table border=\"1\" class=\"dataframe\">\n",
       "  <thead>\n",
       "    <tr style=\"text-align: right;\">\n",
       "      <th></th>\n",
       "      <th>id</th>\n",
       "      <th>imdb_id</th>\n",
       "      <th>popularity</th>\n",
       "      <th>budget</th>\n",
       "      <th>revenue</th>\n",
       "      <th>original_title</th>\n",
       "      <th>cast</th>\n",
       "      <th>homepage</th>\n",
       "      <th>director</th>\n",
       "      <th>tagline</th>\n",
       "      <th>...</th>\n",
       "      <th>overview</th>\n",
       "      <th>runtime</th>\n",
       "      <th>genres</th>\n",
       "      <th>production_companies</th>\n",
       "      <th>release_date</th>\n",
       "      <th>vote_count</th>\n",
       "      <th>vote_average</th>\n",
       "      <th>release_year</th>\n",
       "      <th>budget_adj</th>\n",
       "      <th>revenue_adj</th>\n",
       "    </tr>\n",
       "  </thead>\n",
       "  <tbody>\n",
       "    <tr>\n",
       "      <th>0</th>\n",
       "      <td>135397</td>\n",
       "      <td>tt0369610</td>\n",
       "      <td>32.985763</td>\n",
       "      <td>150000000</td>\n",
       "      <td>1513528810</td>\n",
       "      <td>Jurassic World</td>\n",
       "      <td>Chris Pratt|Bryce Dallas Howard|Irrfan Khan|Vi...</td>\n",
       "      <td>http://www.jurassicworld.com/</td>\n",
       "      <td>Colin Trevorrow</td>\n",
       "      <td>The park is open.</td>\n",
       "      <td>...</td>\n",
       "      <td>Twenty-two years after the events of Jurassic ...</td>\n",
       "      <td>124</td>\n",
       "      <td>Action|Adventure|Science Fiction|Thriller</td>\n",
       "      <td>Universal Studios|Amblin Entertainment|Legenda...</td>\n",
       "      <td>06/09/2015</td>\n",
       "      <td>5562</td>\n",
       "      <td>6.5</td>\n",
       "      <td>2015</td>\n",
       "      <td>137999939.3</td>\n",
       "      <td>1.392446e+09</td>\n",
       "    </tr>\n",
       "    <tr>\n",
       "      <th>1</th>\n",
       "      <td>76341</td>\n",
       "      <td>tt1392190</td>\n",
       "      <td>28.419936</td>\n",
       "      <td>150000000</td>\n",
       "      <td>378436354</td>\n",
       "      <td>Mad Max: Fury Road</td>\n",
       "      <td>Tom Hardy|Charlize Theron|Hugh Keays-Byrne|Nic...</td>\n",
       "      <td>http://www.madmaxmovie.com/</td>\n",
       "      <td>George Miller</td>\n",
       "      <td>What a Lovely Day.</td>\n",
       "      <td>...</td>\n",
       "      <td>An apocalyptic story set in the furthest reach...</td>\n",
       "      <td>120</td>\n",
       "      <td>Action|Adventure|Science Fiction|Thriller</td>\n",
       "      <td>Village Roadshow Pictures|Kennedy Miller Produ...</td>\n",
       "      <td>5/13/15</td>\n",
       "      <td>6185</td>\n",
       "      <td>7.1</td>\n",
       "      <td>2015</td>\n",
       "      <td>137999939.3</td>\n",
       "      <td>3.481613e+08</td>\n",
       "    </tr>\n",
       "    <tr>\n",
       "      <th>2</th>\n",
       "      <td>262500</td>\n",
       "      <td>tt2908446</td>\n",
       "      <td>13.112507</td>\n",
       "      <td>110000000</td>\n",
       "      <td>295238201</td>\n",
       "      <td>Insurgent</td>\n",
       "      <td>Shailene Woodley|Theo James|Kate Winslet|Ansel...</td>\n",
       "      <td>http://www.thedivergentseries.movie/#insurgent</td>\n",
       "      <td>Robert Schwentke</td>\n",
       "      <td>One Choice Can Destroy You</td>\n",
       "      <td>...</td>\n",
       "      <td>Beatrice Prior must confront her inner demons ...</td>\n",
       "      <td>119</td>\n",
       "      <td>Adventure|Science Fiction|Thriller</td>\n",
       "      <td>Summit Entertainment|Mandeville Films|Red Wago...</td>\n",
       "      <td>3/18/15</td>\n",
       "      <td>2480</td>\n",
       "      <td>6.3</td>\n",
       "      <td>2015</td>\n",
       "      <td>101199955.5</td>\n",
       "      <td>2.716190e+08</td>\n",
       "    </tr>\n",
       "    <tr>\n",
       "      <th>3</th>\n",
       "      <td>140607</td>\n",
       "      <td>tt2488496</td>\n",
       "      <td>11.173104</td>\n",
       "      <td>200000000</td>\n",
       "      <td>2068178225</td>\n",
       "      <td>Star Wars: The Force Awakens</td>\n",
       "      <td>Harrison Ford|Mark Hamill|Carrie Fisher|Adam D...</td>\n",
       "      <td>http://www.starwars.com/films/star-wars-episod...</td>\n",
       "      <td>J.J. Abrams</td>\n",
       "      <td>Every generation has a story.</td>\n",
       "      <td>...</td>\n",
       "      <td>Thirty years after defeating the Galactic Empi...</td>\n",
       "      <td>136</td>\n",
       "      <td>Action|Adventure|Science Fiction|Fantasy</td>\n",
       "      <td>Lucasfilm|Truenorth Productions|Bad Robot</td>\n",
       "      <td>12/15/15</td>\n",
       "      <td>5292</td>\n",
       "      <td>7.5</td>\n",
       "      <td>2015</td>\n",
       "      <td>183999919.0</td>\n",
       "      <td>1.902723e+09</td>\n",
       "    </tr>\n",
       "    <tr>\n",
       "      <th>4</th>\n",
       "      <td>168259</td>\n",
       "      <td>tt2820852</td>\n",
       "      <td>9.335014</td>\n",
       "      <td>190000000</td>\n",
       "      <td>1506249360</td>\n",
       "      <td>Furious 7</td>\n",
       "      <td>Vin Diesel|Paul Walker|Jason Statham|Michelle ...</td>\n",
       "      <td>http://www.furious7.com/</td>\n",
       "      <td>James Wan</td>\n",
       "      <td>Vengeance Hits Home</td>\n",
       "      <td>...</td>\n",
       "      <td>Deckard Shaw seeks revenge against Dominic Tor...</td>\n",
       "      <td>137</td>\n",
       "      <td>Action|Crime|Thriller</td>\n",
       "      <td>Universal Pictures|Original Film|Media Rights ...</td>\n",
       "      <td>04/01/2015</td>\n",
       "      <td>2947</td>\n",
       "      <td>7.3</td>\n",
       "      <td>2015</td>\n",
       "      <td>174799923.1</td>\n",
       "      <td>1.385749e+09</td>\n",
       "    </tr>\n",
       "  </tbody>\n",
       "</table>\n",
       "<p>5 rows × 21 columns</p>\n",
       "</div>"
      ],
      "text/plain": [
       "       id    imdb_id  popularity     budget     revenue  \\\n",
       "0  135397  tt0369610   32.985763  150000000  1513528810   \n",
       "1   76341  tt1392190   28.419936  150000000   378436354   \n",
       "2  262500  tt2908446   13.112507  110000000   295238201   \n",
       "3  140607  tt2488496   11.173104  200000000  2068178225   \n",
       "4  168259  tt2820852    9.335014  190000000  1506249360   \n",
       "\n",
       "                 original_title  \\\n",
       "0                Jurassic World   \n",
       "1            Mad Max: Fury Road   \n",
       "2                     Insurgent   \n",
       "3  Star Wars: The Force Awakens   \n",
       "4                     Furious 7   \n",
       "\n",
       "                                                cast  \\\n",
       "0  Chris Pratt|Bryce Dallas Howard|Irrfan Khan|Vi...   \n",
       "1  Tom Hardy|Charlize Theron|Hugh Keays-Byrne|Nic...   \n",
       "2  Shailene Woodley|Theo James|Kate Winslet|Ansel...   \n",
       "3  Harrison Ford|Mark Hamill|Carrie Fisher|Adam D...   \n",
       "4  Vin Diesel|Paul Walker|Jason Statham|Michelle ...   \n",
       "\n",
       "                                            homepage          director  \\\n",
       "0                      http://www.jurassicworld.com/   Colin Trevorrow   \n",
       "1                        http://www.madmaxmovie.com/     George Miller   \n",
       "2     http://www.thedivergentseries.movie/#insurgent  Robert Schwentke   \n",
       "3  http://www.starwars.com/films/star-wars-episod...       J.J. Abrams   \n",
       "4                           http://www.furious7.com/         James Wan   \n",
       "\n",
       "                         tagline      ...       \\\n",
       "0              The park is open.      ...        \n",
       "1             What a Lovely Day.      ...        \n",
       "2     One Choice Can Destroy You      ...        \n",
       "3  Every generation has a story.      ...        \n",
       "4            Vengeance Hits Home      ...        \n",
       "\n",
       "                                            overview runtime  \\\n",
       "0  Twenty-two years after the events of Jurassic ...     124   \n",
       "1  An apocalyptic story set in the furthest reach...     120   \n",
       "2  Beatrice Prior must confront her inner demons ...     119   \n",
       "3  Thirty years after defeating the Galactic Empi...     136   \n",
       "4  Deckard Shaw seeks revenge against Dominic Tor...     137   \n",
       "\n",
       "                                      genres  \\\n",
       "0  Action|Adventure|Science Fiction|Thriller   \n",
       "1  Action|Adventure|Science Fiction|Thriller   \n",
       "2         Adventure|Science Fiction|Thriller   \n",
       "3   Action|Adventure|Science Fiction|Fantasy   \n",
       "4                      Action|Crime|Thriller   \n",
       "\n",
       "                                production_companies release_date vote_count  \\\n",
       "0  Universal Studios|Amblin Entertainment|Legenda...   06/09/2015       5562   \n",
       "1  Village Roadshow Pictures|Kennedy Miller Produ...      5/13/15       6185   \n",
       "2  Summit Entertainment|Mandeville Films|Red Wago...      3/18/15       2480   \n",
       "3          Lucasfilm|Truenorth Productions|Bad Robot     12/15/15       5292   \n",
       "4  Universal Pictures|Original Film|Media Rights ...   04/01/2015       2947   \n",
       "\n",
       "   vote_average  release_year   budget_adj   revenue_adj  \n",
       "0           6.5          2015  137999939.3  1.392446e+09  \n",
       "1           7.1          2015  137999939.3  3.481613e+08  \n",
       "2           6.3          2015  101199955.5  2.716190e+08  \n",
       "3           7.5          2015  183999919.0  1.902723e+09  \n",
       "4           7.3          2015  174799923.1  1.385749e+09  \n",
       "\n",
       "[5 rows x 21 columns]"
      ]
     },
     "execution_count": 25,
     "metadata": {},
     "output_type": "execute_result"
    }
   ],
   "source": [
    "# Load your data and print out a few lines. Perform operations to inspect data\n",
    "movies=pd.read_csv('tmdb-movies.csv')\n",
    "movies.head(5)\n",
    "#   types and look for instances of missing or possibly errant data.\n"
   ]
  },
  {
   "cell_type": "markdown",
   "metadata": {},
   "source": [
    "\n",
    "### Data Cleaning (Removing all the unnecessary columns from the dataset !)"
   ]
  },
  {
   "cell_type": "code",
   "execution_count": 26,
   "metadata": {},
   "outputs": [
    {
     "data": {
      "text/plain": [
       "Index(['id', 'popularity', 'original_title', 'director', 'runtime', 'genres',\n",
       "       'release_date', 'vote_count', 'vote_average', 'release_year',\n",
       "       'budget_adj', 'revenue_adj'],\n",
       "      dtype='object')"
      ]
     },
     "execution_count": 26,
     "metadata": {},
     "output_type": "execute_result"
    }
   ],
   "source": [
    "# After discussing the structure of the data and any problems that need to be\n",
    "#   cleaned, perform those cleaning steps in the second part of this section.\n",
    "movies.drop(['imdb_id','homepage','tagline','keywords','production_companies','cast','overview','budget','revenue'],axis=1, inplace=True)\n",
    "movies.columns"
   ]
  },
  {
   "cell_type": "code",
   "execution_count": 27,
   "metadata": {},
   "outputs": [
    {
     "data": {
      "text/html": [
       "<div>\n",
       "<style>\n",
       "    .dataframe thead tr:only-child th {\n",
       "        text-align: right;\n",
       "    }\n",
       "\n",
       "    .dataframe thead th {\n",
       "        text-align: left;\n",
       "    }\n",
       "\n",
       "    .dataframe tbody tr th {\n",
       "        vertical-align: top;\n",
       "    }\n",
       "</style>\n",
       "<table border=\"1\" class=\"dataframe\">\n",
       "  <thead>\n",
       "    <tr style=\"text-align: right;\">\n",
       "      <th></th>\n",
       "      <th>id</th>\n",
       "      <th>popularity</th>\n",
       "      <th>runtime</th>\n",
       "      <th>vote_count</th>\n",
       "      <th>vote_average</th>\n",
       "      <th>release_year</th>\n",
       "      <th>budget_adj</th>\n",
       "      <th>revenue_adj</th>\n",
       "    </tr>\n",
       "  </thead>\n",
       "  <tbody>\n",
       "    <tr>\n",
       "      <th>count</th>\n",
       "      <td>10866.000000</td>\n",
       "      <td>10866.000000</td>\n",
       "      <td>10866.000000</td>\n",
       "      <td>10866.000000</td>\n",
       "      <td>10866.000000</td>\n",
       "      <td>10866.000000</td>\n",
       "      <td>1.086600e+04</td>\n",
       "      <td>1.086600e+04</td>\n",
       "    </tr>\n",
       "    <tr>\n",
       "      <th>mean</th>\n",
       "      <td>66064.177434</td>\n",
       "      <td>0.646441</td>\n",
       "      <td>102.070863</td>\n",
       "      <td>217.389748</td>\n",
       "      <td>5.974922</td>\n",
       "      <td>2001.322658</td>\n",
       "      <td>1.755104e+07</td>\n",
       "      <td>5.136436e+07</td>\n",
       "    </tr>\n",
       "    <tr>\n",
       "      <th>std</th>\n",
       "      <td>92130.136561</td>\n",
       "      <td>1.000185</td>\n",
       "      <td>31.381405</td>\n",
       "      <td>575.619058</td>\n",
       "      <td>0.935142</td>\n",
       "      <td>12.812941</td>\n",
       "      <td>3.430616e+07</td>\n",
       "      <td>1.446325e+08</td>\n",
       "    </tr>\n",
       "    <tr>\n",
       "      <th>min</th>\n",
       "      <td>5.000000</td>\n",
       "      <td>0.000065</td>\n",
       "      <td>0.000000</td>\n",
       "      <td>10.000000</td>\n",
       "      <td>1.500000</td>\n",
       "      <td>1960.000000</td>\n",
       "      <td>0.000000e+00</td>\n",
       "      <td>0.000000e+00</td>\n",
       "    </tr>\n",
       "    <tr>\n",
       "      <th>25%</th>\n",
       "      <td>10596.250000</td>\n",
       "      <td>0.207583</td>\n",
       "      <td>90.000000</td>\n",
       "      <td>17.000000</td>\n",
       "      <td>5.400000</td>\n",
       "      <td>1995.000000</td>\n",
       "      <td>0.000000e+00</td>\n",
       "      <td>0.000000e+00</td>\n",
       "    </tr>\n",
       "    <tr>\n",
       "      <th>50%</th>\n",
       "      <td>20669.000000</td>\n",
       "      <td>0.383856</td>\n",
       "      <td>99.000000</td>\n",
       "      <td>38.000000</td>\n",
       "      <td>6.000000</td>\n",
       "      <td>2006.000000</td>\n",
       "      <td>0.000000e+00</td>\n",
       "      <td>0.000000e+00</td>\n",
       "    </tr>\n",
       "    <tr>\n",
       "      <th>75%</th>\n",
       "      <td>75610.000000</td>\n",
       "      <td>0.713817</td>\n",
       "      <td>111.000000</td>\n",
       "      <td>145.750000</td>\n",
       "      <td>6.600000</td>\n",
       "      <td>2011.000000</td>\n",
       "      <td>2.085325e+07</td>\n",
       "      <td>3.369710e+07</td>\n",
       "    </tr>\n",
       "    <tr>\n",
       "      <th>max</th>\n",
       "      <td>417859.000000</td>\n",
       "      <td>32.985763</td>\n",
       "      <td>900.000000</td>\n",
       "      <td>9767.000000</td>\n",
       "      <td>9.200000</td>\n",
       "      <td>2015.000000</td>\n",
       "      <td>4.250000e+08</td>\n",
       "      <td>2.827124e+09</td>\n",
       "    </tr>\n",
       "  </tbody>\n",
       "</table>\n",
       "</div>"
      ],
      "text/plain": [
       "                  id    popularity       runtime    vote_count  vote_average  \\\n",
       "count   10866.000000  10866.000000  10866.000000  10866.000000  10866.000000   \n",
       "mean    66064.177434      0.646441    102.070863    217.389748      5.974922   \n",
       "std     92130.136561      1.000185     31.381405    575.619058      0.935142   \n",
       "min         5.000000      0.000065      0.000000     10.000000      1.500000   \n",
       "25%     10596.250000      0.207583     90.000000     17.000000      5.400000   \n",
       "50%     20669.000000      0.383856     99.000000     38.000000      6.000000   \n",
       "75%     75610.000000      0.713817    111.000000    145.750000      6.600000   \n",
       "max    417859.000000     32.985763    900.000000   9767.000000      9.200000   \n",
       "\n",
       "       release_year    budget_adj   revenue_adj  \n",
       "count  10866.000000  1.086600e+04  1.086600e+04  \n",
       "mean    2001.322658  1.755104e+07  5.136436e+07  \n",
       "std       12.812941  3.430616e+07  1.446325e+08  \n",
       "min     1960.000000  0.000000e+00  0.000000e+00  \n",
       "25%     1995.000000  0.000000e+00  0.000000e+00  \n",
       "50%     2006.000000  0.000000e+00  0.000000e+00  \n",
       "75%     2011.000000  2.085325e+07  3.369710e+07  \n",
       "max     2015.000000  4.250000e+08  2.827124e+09  "
      ]
     },
     "execution_count": 27,
     "metadata": {},
     "output_type": "execute_result"
    }
   ],
   "source": [
    "movies.describe()"
   ]
  },
  {
   "cell_type": "code",
   "execution_count": 28,
   "metadata": {},
   "outputs": [
    {
     "data": {
      "text/plain": [
       "id                  int64\n",
       "popularity        float64\n",
       "original_title     object\n",
       "director           object\n",
       "runtime             int64\n",
       "genres             object\n",
       "release_date       object\n",
       "vote_count          int64\n",
       "vote_average      float64\n",
       "release_year        int64\n",
       "budget_adj        float64\n",
       "revenue_adj       float64\n",
       "dtype: object"
      ]
     },
     "execution_count": 28,
     "metadata": {},
     "output_type": "execute_result"
    }
   ],
   "source": [
    "movies.dtypes"
   ]
  },
  {
   "cell_type": "code",
   "execution_count": 29,
   "metadata": {},
   "outputs": [
    {
     "data": {
      "text/plain": [
       "id                         int64\n",
       "popularity               float64\n",
       "original_title            object\n",
       "director                  object\n",
       "runtime                    int64\n",
       "genres                    object\n",
       "release_date      datetime64[ns]\n",
       "vote_count                 int64\n",
       "vote_average             float64\n",
       "release_year               int64\n",
       "budget_adj               float64\n",
       "revenue_adj              float64\n",
       "dtype: object"
      ]
     },
     "execution_count": 29,
     "metadata": {},
     "output_type": "execute_result"
    }
   ],
   "source": [
    "movies['release_date']=pd.to_datetime(movies['release_date'])\n",
    "movies.dtypes"
   ]
  },
  {
   "cell_type": "markdown",
   "metadata": {},
   "source": [
    "<a id='eda'></a>\n",
    "## Exploratory Data Analysis\n",
    "\n",
    "\n",
    "\n",
    "# Research Question 1 (What are the most successful years for movies? )\n",
    "\n",
    "## First: The Most Profitable Years for Movies.\n",
    "## Second: The AVG Voting Count."
   ]
  },
  {
   "cell_type": "code",
   "execution_count": 30,
   "metadata": {},
   "outputs": [
    {
     "data": {
      "text/plain": [
       "2014    700\n",
       "2013    659\n",
       "2015    629\n",
       "2012    588\n",
       "2011    540\n",
       "2009    533\n",
       "2008    496\n",
       "2010    490\n",
       "2007    438\n",
       "2006    408\n",
       "2005    364\n",
       "2004    307\n",
       "2003    281\n",
       "2002    266\n",
       "2001    242\n",
       "2000    227\n",
       "1999    224\n",
       "1998    210\n",
       "1996    204\n",
       "1997    192\n",
       "1994    184\n",
       "1993    178\n",
       "1995    175\n",
       "1988    145\n",
       "1989    137\n",
       "1992    133\n",
       "1991    133\n",
       "1990    132\n",
       "1987    125\n",
       "1986    121\n",
       "1985    109\n",
       "1984    105\n",
       "1981     82\n",
       "1982     81\n",
       "1983     80\n",
       "1980     78\n",
       "1978     65\n",
       "1979     57\n",
       "1977     57\n",
       "1971     55\n",
       "1973     55\n",
       "1974     47\n",
       "1976     47\n",
       "1966     46\n",
       "1975     44\n",
       "1964     42\n",
       "1970     41\n",
       "1967     40\n",
       "1972     40\n",
       "1968     39\n",
       "1965     35\n",
       "1963     34\n",
       "1962     32\n",
       "1960     32\n",
       "1969     31\n",
       "1961     31\n",
       "Name: release_year, dtype: int64"
      ]
     },
     "execution_count": 30,
     "metadata": {},
     "output_type": "execute_result"
    }
   ],
   "source": [
    "movies['release_year'].value_counts()"
   ]
  },
  {
   "cell_type": "code",
   "execution_count": 31,
   "metadata": {},
   "outputs": [
    {
     "data": {
      "text/plain": [
       "release_year\n",
       "2010    9.385001e+09\n",
       "2011    8.742180e+09\n",
       "2009    8.735031e+09\n",
       "2013    8.645240e+09\n",
       "2004    8.277766e+09\n",
       "2005    8.199242e+09\n",
       "2007    8.030088e+09\n",
       "2006    7.902875e+09\n",
       "2008    7.880759e+09\n",
       "2012    7.858264e+09\n",
       "1999    7.546997e+09\n",
       "2003    7.396432e+09\n",
       "2014    7.298716e+09\n",
       "2000    7.284599e+09\n",
       "2002    7.145845e+09\n",
       "2015    6.988821e+09\n",
       "2001    6.947987e+09\n",
       "1997    6.454163e+09\n",
       "1998    6.019175e+09\n",
       "1996    5.125788e+09\n",
       "1995    4.100986e+09\n",
       "1994    3.279412e+09\n",
       "1993    2.686296e+09\n",
       "1991    2.347575e+09\n",
       "1992    2.240538e+09\n",
       "1990    2.152749e+09\n",
       "1989    1.899099e+09\n",
       "1988    1.706241e+09\n",
       "1984    1.530647e+09\n",
       "1985    1.517781e+09\n",
       "1986    1.401604e+09\n",
       "1987    1.361503e+09\n",
       "1983    1.136488e+09\n",
       "1982    9.892602e+08\n",
       "1980    9.591883e+08\n",
       "1981    8.963425e+08\n",
       "1979    7.656024e+08\n",
       "1970    7.130931e+08\n",
       "1978    6.986145e+08\n",
       "1967    6.579397e+08\n",
       "1977    5.813295e+08\n",
       "1963    5.221334e+08\n",
       "1965    4.858590e+08\n",
       "1976    4.680419e+08\n",
       "1968    4.509830e+08\n",
       "1971    4.092587e+08\n",
       "1962    3.944616e+08\n",
       "1966    3.866540e+08\n",
       "1974    3.403832e+08\n",
       "1961    3.365630e+08\n",
       "1973    3.201623e+08\n",
       "1964    2.775772e+08\n",
       "1969    2.504264e+08\n",
       "1975    2.280324e+08\n",
       "1972    1.891804e+08\n",
       "1960    1.626252e+08\n",
       "Name: budget_adj, dtype: float64"
      ]
     },
     "execution_count": 31,
     "metadata": {},
     "output_type": "execute_result"
    }
   ],
   "source": [
    "year_bud=movies.groupby('release_year')['budget_adj'].sum()\n",
    "year_bud.sort_values(ascending= False)"
   ]
  },
  {
   "cell_type": "code",
   "execution_count": 32,
   "metadata": {},
   "outputs": [
    {
     "data": {
      "text/plain": [
       "release_year\n",
       "1960    1.069117e+09\n",
       "1961    2.463622e+09\n",
       "1962    1.553996e+09\n",
       "1963    1.334357e+09\n",
       "1964    2.397193e+09\n",
       "1965    3.170185e+09\n",
       "1966    5.692623e+08\n",
       "1967    4.823051e+09\n",
       "1968    1.659601e+09\n",
       "1969    1.450145e+09\n",
       "1970    3.146413e+09\n",
       "1971    2.180523e+09\n",
       "1972    2.579801e+09\n",
       "1973    6.011167e+09\n",
       "1974    3.593282e+09\n",
       "1975    3.879578e+09\n",
       "1976    3.069212e+09\n",
       "1977    7.845261e+09\n",
       "1978    4.578763e+09\n",
       "1979    5.062057e+09\n",
       "1980    4.679946e+09\n",
       "1981    4.255844e+09\n",
       "1982    5.555204e+09\n",
       "1983    5.051902e+09\n",
       "1984    5.532077e+09\n",
       "1985    5.829668e+09\n",
       "1986    5.973746e+09\n",
       "1987    6.644058e+09\n",
       "1988    6.895324e+09\n",
       "1989    9.085023e+09\n",
       "1990    8.870474e+09\n",
       "1991    7.535703e+09\n",
       "1992    9.445598e+09\n",
       "1993    1.049859e+10\n",
       "1994    1.043817e+10\n",
       "1995    1.310242e+10\n",
       "1996    1.155478e+10\n",
       "1997    1.447463e+10\n",
       "1998    1.269898e+10\n",
       "1999    1.486523e+10\n",
       "2000    1.390224e+10\n",
       "2001    1.651436e+10\n",
       "2002    1.775189e+10\n",
       "2003    1.794416e+10\n",
       "2004    1.938755e+10\n",
       "2005    1.844209e+10\n",
       "2006    1.760497e+10\n",
       "2007    2.041464e+10\n",
       "2008    1.968016e+10\n",
       "2009    2.254393e+10\n",
       "2010    2.196000e+10\n",
       "2011    2.297046e+10\n",
       "2012    2.342870e+10\n",
       "2013    2.312342e+10\n",
       "2014    2.241120e+10\n",
       "2015    2.462144e+10\n",
       "Name: revenue_adj, dtype: float64"
      ]
     },
     "execution_count": 32,
     "metadata": {},
     "output_type": "execute_result"
    }
   ],
   "source": [
    "# Use this, and more code cells, to explore your data. Don't forget to add\n",
    "#   Markdown cells to document your observations and findings.\n",
    "year_rev=movies.groupby('release_year')['revenue_adj'].sum()\n",
    "year_rev\n",
    "\n",
    "\n",
    "\n",
    "\n",
    "\n",
    "\n",
    "\n",
    "\n",
    "\n"
   ]
  },
  {
   "cell_type": "code",
   "execution_count": 33,
   "metadata": {},
   "outputs": [
    {
     "data": {
      "text/plain": [
       "release_year\n",
       "2015    2.462144e+10\n",
       "2012    2.342870e+10\n",
       "2013    2.312342e+10\n",
       "2011    2.297046e+10\n",
       "2009    2.254393e+10\n",
       "2014    2.241120e+10\n",
       "2010    2.196000e+10\n",
       "2007    2.041464e+10\n",
       "2008    1.968016e+10\n",
       "2004    1.938755e+10\n",
       "2005    1.844209e+10\n",
       "2003    1.794416e+10\n",
       "2002    1.775189e+10\n",
       "2006    1.760497e+10\n",
       "2001    1.651436e+10\n",
       "1999    1.486523e+10\n",
       "1997    1.447463e+10\n",
       "2000    1.390224e+10\n",
       "1995    1.310242e+10\n",
       "1998    1.269898e+10\n",
       "1996    1.155478e+10\n",
       "1993    1.049859e+10\n",
       "1994    1.043817e+10\n",
       "1992    9.445598e+09\n",
       "1989    9.085023e+09\n",
       "1990    8.870474e+09\n",
       "1977    7.845261e+09\n",
       "1991    7.535703e+09\n",
       "1988    6.895324e+09\n",
       "1987    6.644058e+09\n",
       "1973    6.011167e+09\n",
       "1986    5.973746e+09\n",
       "1985    5.829668e+09\n",
       "1982    5.555204e+09\n",
       "1984    5.532077e+09\n",
       "1979    5.062057e+09\n",
       "1983    5.051902e+09\n",
       "1967    4.823051e+09\n",
       "1980    4.679946e+09\n",
       "1978    4.578763e+09\n",
       "1981    4.255844e+09\n",
       "1975    3.879578e+09\n",
       "1974    3.593282e+09\n",
       "1965    3.170185e+09\n",
       "1970    3.146413e+09\n",
       "1976    3.069212e+09\n",
       "1972    2.579801e+09\n",
       "1961    2.463622e+09\n",
       "1964    2.397193e+09\n",
       "1971    2.180523e+09\n",
       "1968    1.659601e+09\n",
       "1962    1.553996e+09\n",
       "1969    1.450145e+09\n",
       "1963    1.334357e+09\n",
       "1960    1.069117e+09\n",
       "1966    5.692623e+08\n",
       "Name: revenue_adj, dtype: float64"
      ]
     },
     "execution_count": 33,
     "metadata": {},
     "output_type": "execute_result"
    }
   ],
   "source": [
    "#sorting the series\n",
    "year_rev.sort_values(ascending= False)"
   ]
  },
  {
   "cell_type": "code",
   "execution_count": 34,
   "metadata": {},
   "outputs": [
    {
     "data": {
      "text/plain": [
       "release_year\n",
       "2015    2.462144e+10\n",
       "2012    2.342870e+10\n",
       "2013    2.312342e+10\n",
       "2011    2.297046e+10\n",
       "2009    2.254393e+10\n",
       "2014    2.241120e+10\n",
       "2010    2.196000e+10\n",
       "2007    2.041464e+10\n",
       "2008    1.968016e+10\n",
       "2004    1.938755e+10\n",
       "2005    1.844209e+10\n",
       "2003    1.794416e+10\n",
       "2002    1.775189e+10\n",
       "2006    1.760497e+10\n",
       "2001    1.651436e+10\n",
       "1999    1.486523e+10\n",
       "1997    1.447463e+10\n",
       "2000    1.390224e+10\n",
       "1995    1.310242e+10\n",
       "1998    1.269898e+10\n",
       "Name: revenue_adj, dtype: float64"
      ]
     },
     "execution_count": 34,
     "metadata": {},
     "output_type": "execute_result"
    }
   ],
   "source": [
    "#adding top 20 rsults to a new series\n",
    "top_year_rev=year_rev.nlargest(20)\n",
    "top_year_rev"
   ]
  },
  {
   "cell_type": "markdown",
   "metadata": {},
   "source": [
    "#### In the visualization below:\n",
    "\n",
    "#### We will visual the relationship between movies & revenue yearly based.\n",
    "\n",
    "#### This will help to find out what are the most profitable years in movies industry.\n"
   ]
  },
  {
   "cell_type": "code",
   "execution_count": 35,
   "metadata": {},
   "outputs": [
    {
     "data": {
      "text/plain": [
       "Text(0,0.5,'Revenue')"
      ]
     },
     "execution_count": 35,
     "metadata": {},
     "output_type": "execute_result"
    },
    {
     "data": {
      "image/png": "[encoded data removed]",
      "text/plain": [
       "<matplotlib.figure.Figure at 0x7f2bd843d208>"
      ]
     },
     "metadata": {
      "needs_background": "light"
     },
     "output_type": "display_data"
    }
   ],
   "source": [
    "#Visual the results\n",
    "top_year_rev.plot(x='release_year',y='revenue_adj',kind='bar', figsize=(15,10), title='Most Profitable Years for Movies', legend=True)\n",
    "plt.xlabel('Year')\n",
    "plt.ylabel('Revenue')"
   ]
  },
  {
   "cell_type": "markdown",
   "metadata": {},
   "source": [
    "#### In the visualization above:\n",
    "\n",
    "##### - Newer movies are more profitable from the late 90s through the 2000s to 2010s either because of more spending on movies' budgets, dollar inflation and/or attracting more audiance."
   ]
  },
  {
   "cell_type": "markdown",
   "metadata": {},
   "source": [
    "\n",
    "### Second: The AVG voting for each year"
   ]
  },
  {
   "cell_type": "code",
   "execution_count": 36,
   "metadata": {},
   "outputs": [
    {
     "data": {
      "text/plain": [
       "release_year\n",
       "1973    6.703636\n",
       "1972    6.535000\n",
       "1971    6.420000\n",
       "1970    6.417073\n",
       "1974    6.395745\n",
       "1975    6.390909\n",
       "1968    6.379487\n",
       "1961    6.374194\n",
       "1962    6.343750\n",
       "1976    6.340426\n",
       "1963    6.329412\n",
       "1960    6.325000\n",
       "1979    6.308772\n",
       "1967    6.242500\n",
       "1982    6.241975\n",
       "1964    6.211905\n",
       "1965    6.194286\n",
       "1985    6.177064\n",
       "1981    6.165854\n",
       "1980    6.160256\n",
       "1977    6.147368\n",
       "1978    6.130769\n",
       "1987    6.128800\n",
       "1966    6.128261\n",
       "1992    6.081203\n",
       "1989    6.070073\n",
       "1995    6.056000\n",
       "1993    6.050000\n",
       "1999    6.032589\n",
       "1991    6.014286\n",
       "1986    6.004959\n",
       "1984    6.003810\n",
       "1990    5.993939\n",
       "2010    5.990816\n",
       "2004    5.988599\n",
       "1997    5.988542\n",
       "2002    5.973308\n",
       "1983    5.971250\n",
       "1998    5.970476\n",
       "1988    5.965517\n",
       "2007    5.964384\n",
       "1969    5.961290\n",
       "2011    5.958519\n",
       "1994    5.942391\n",
       "2006    5.941422\n",
       "2003    5.930961\n",
       "2008    5.930847\n",
       "2014    5.920714\n",
       "1996    5.900980\n",
       "2001    5.896281\n",
       "2015    5.885692\n",
       "2000    5.882379\n",
       "2013    5.880577\n",
       "2005    5.866484\n",
       "2009    5.856660\n",
       "2012    5.799830\n",
       "Name: vote_average, dtype: float64"
      ]
     },
     "execution_count": 36,
     "metadata": {},
     "output_type": "execute_result"
    }
   ],
   "source": [
    "Yvot_avg=movies.groupby('release_year')['vote_average'].mean()\n",
    "Yvot_avg.sort_values(ascending= False)"
   ]
  },
  {
   "cell_type": "code",
   "execution_count": 37,
   "metadata": {},
   "outputs": [
    {
     "data": {
      "text/plain": [
       "release_year\n",
       "1973    6.703636\n",
       "1972    6.535000\n",
       "1971    6.420000\n",
       "1970    6.417073\n",
       "1974    6.395745\n",
       "1975    6.390909\n",
       "1968    6.379487\n",
       "1961    6.374194\n",
       "1962    6.343750\n",
       "1976    6.340426\n",
       "1963    6.329412\n",
       "1960    6.325000\n",
       "1979    6.308772\n",
       "1967    6.242500\n",
       "1982    6.241975\n",
       "1964    6.211905\n",
       "1965    6.194286\n",
       "1985    6.177064\n",
       "1981    6.165854\n",
       "1980    6.160256\n",
       "Name: vote_average, dtype: float64"
      ]
     },
     "execution_count": 37,
     "metadata": {},
     "output_type": "execute_result"
    }
   ],
   "source": [
    "#adding top 20 rsults to a new series\n",
    "top_year_vote=Yvot_avg.nlargest(20)\n",
    "top_year_vote"
   ]
  },
  {
   "cell_type": "markdown",
   "metadata": {},
   "source": [
    "### In the visualization below:\n",
    "\n",
    "#### - We will visual the relationship between movies & the average rating on a yearly base.\n",
    "\n",
    "#### - This will help to find out what are the highest rating years in movies industry."
   ]
  },
  {
   "cell_type": "code",
   "execution_count": 22,
   "metadata": {},
   "outputs": [
    {
     "data": {
      "text/plain": [
       "Text(0,0.5,'Voting Average')"
      ]
     },
     "execution_count": 22,
     "metadata": {},
     "output_type": "execute_result"
    },
    {
     "data": {
      "image/png": "[encoded data removed]",
      "text/plain": [
       "<matplotlib.figure.Figure at 0x7f2bdd10bc50>"
      ]
     },
     "metadata": {
      "needs_background": "light"
     },
     "output_type": "display_data"
    }
   ],
   "source": [
    "top_year_vote.plot(x='release_year', y='vote_average',kind='bar', figsize=(15,10), title='Highest Rating Movies by Years', legend=True)\n",
    "plt.xlabel('Year')\n",
    "plt.ylabel('Voting Average')\n"
   ]
  },
  {
   "cell_type": "markdown",
   "metadata": {},
   "source": [
    "#### In the visualization above:\n",
    "\n",
    "##### - Older movies are dictating this visual espacially the 70s & 60s movies.\n",
    "#### - The AVG was hovering in 6 out of 10 at best 1973 6.7/10."
   ]
  },
  {
   "cell_type": "markdown",
   "metadata": {},
   "source": [
    "### Research Question 2  (What is the relationship between revenue and rating?)"
   ]
  },
  {
   "cell_type": "markdown",
   "metadata": {},
   "source": [
    "### In Q2 we will see the relationship between revenue & rating\n",
    "\n",
    "#### The visual below will show either revenue & rating toghterly grow or they decline each other."
   ]
  },
  {
   "cell_type": "code",
   "execution_count": 30,
   "metadata": {},
   "outputs": [
    {
     "data": {
      "text/plain": [
       "Text(0,0.5,'Revenue')"
      ]
     },
     "execution_count": 30,
     "metadata": {},
     "output_type": "execute_result"
    },
    {
     "data": {
      "image/png": "[encoded data removed]",
      "text/plain": [
       "<matplotlib.figure.Figure at 0x7f9631284898>"
      ]
     },
     "metadata": {
      "needs_background": "light"
     },
     "output_type": "display_data"
    }
   ],
   "source": [
    "# Continue to explore the data to address your additional research\n",
    "#   questions. Add more headers as needed if you have more questions to\n",
    "#   investigate.\n",
    "movies.plot(x='vote_average', y='revenue_adj', kind='scatter',figsize=(15,10))\n",
    "plt.title('Rating vs Revenue')\n",
    "plt.xlabel('Rating')\n",
    "plt.ylabel('Revenue')"
   ]
  },
  {
   "cell_type": "markdown",
   "metadata": {},
   "source": [
    "\n",
    "## From the Visualization above:\n",
    "\n",
    "### - Higher vote ratings are associated with high revenues.\n",
    "### - Movies with revenue over 1B dollars are likely to get over 7 out of 10"
   ]
  },
  {
   "cell_type": "markdown",
   "metadata": {},
   "source": [
    "<a id='conclusions'></a>\n",
    "## Conclusions\n",
    "\n",
    "### In Quastion 1, part 1(The most profitable years in movies industry):\n",
    "\n",
    "#### - New movies clearly are more profitable(the late 90s thoughout the 2000s to the 2010s)\n",
    "#### - New movies spent more in budgets.\n",
    "#### - Movie profits grew substaintially in 55 years between (1960 to 2015) from 1 billion dollars to 10 billion dollars.\n",
    "#### - Aside from the revenue growth for the new movies, also the number of movies produced was expodantially increaing in the latest years of movie industry\n",
    "\n",
    "### In Quastion 1, part 2(The highest rating years in movie industry):\n",
    "\n",
    "#### - Old movies got higher rating average espcially the 70s & 60s movies.\n",
    "#### - The number of movies produced in the 70s & 60s movies was very low comparing to the latest years.\n",
    "#### - The AVG was hovering in 6 out of 10 at best 1973 6.7/10.\n",
    "#### - The highest movie year in average ratings was 1973 with only 55 movies produced, and the lowest year in average rating was 2012 with 588 movies produced.\n",
    "\n",
    "### In Quastion 2 (The relationship between revenue and rating):\n",
    "\n",
    "#### - Higher vote ratings compliment higher revenues.\n",
    "#### - Many movies with revenue over 1 billion dollars can get over 7 out of 10.\n",
    "#### - Many movies with revenue less than 1 billion dollars hovering between 5 & 8 out of 10.\n",
    "\n",
    "## Limitations\n",
    "\n",
    "### there were some limitations of this dataset:\n",
    "\n",
    "#### - Many NAN (null) values.\n",
    "#### - Many zero values of budget & revenue.\n",
    "#### - very difficult to manipulate text or string values.\n"
   ]
  },
  {
   "cell_type": "code",
   "execution_count": 31,
   "metadata": {},
   "outputs": [
    {
     "data": {
      "text/plain": [
       "0"
      ]
     },
     "execution_count": 31,
     "metadata": {},
     "output_type": "execute_result"
    }
   ],
   "source": [
    "from subprocess import call\n",
    "call(['python', '-m', 'nbconvert', 'Investigate_a_Dataset.ipynb'])"
   ]
  },
  {
   "cell_type": "code",
   "execution_count": null,
   "metadata": {},
   "outputs": [],
   "source": []
  }
 ],
 "metadata": {
  "kernelspec": {
   "display_name": "Python 3",
   "language": "python",
   "name": "python3"
  },
  "language_info": {
   "codemirror_mode": {
    "name": "ipython",
    "version": 3
   },
   "file_extension": ".py",
   "mimetype": "text/x-python",
   "name": "python",
   "nbconvert_exporter": "python",
   "pygments_lexer": "ipython3",
   "version": "3.6.3"
  }
 },
 "nbformat": 4,
 "nbformat_minor": 2
}
